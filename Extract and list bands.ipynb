{
 "cells": [
  {
   "cell_type": "code",
   "execution_count": 1,
   "id": "517670b3",
   "metadata": {},
   "outputs": [],
   "source": [
    "import glob\n",
    "#import numpy as np\n",
    "#import matplotlib.pyplot as plt\n",
    "#from osgeo import gdal"
   ]
  },
  {
   "cell_type": "code",
   "execution_count": 2,
   "id": "40116bca",
   "metadata": {},
   "outputs": [],
   "source": [
    "import pathlib\n",
    "import os\n",
    "import tarfile"
   ]
  },
  {
   "cell_type": "code",
   "execution_count": 3,
   "id": "19fc3562",
   "metadata": {},
   "outputs": [],
   "source": [
    "import extraction"
   ]
  },
  {
   "cell_type": "code",
   "execution_count": 13,
   "id": "96614e4d",
   "metadata": {},
   "outputs": [],
   "source": [
    "def choose_files():\n",
    "    checkL=['B1','B2','B3','B4','B5','B6','B7','B8','B9','B10','B11','ANG','QA_PIXEL','QA_RADSAT','QA_AEROSOL','ATRAN',\n",
    "        'CDIST','DRAD','EMIS','EMSD','QA','TRAD','URAD','MTL']\n",
    "    bnds = []\n",
    "    c = True\n",
    "    while c:\n",
    "        a = input('Give band or file name(b1,b2,b3,MTL, ..etc) type \"ok\" when done:').upper()\n",
    "        if a in checkL:\n",
    "            bnds.append(a)\n",
    "        elif a == 'OK': \n",
    "            c= False\n",
    "        else:\n",
    "            print('invalid input')\n",
    "    \n",
    "    return bnds"
   ]
  },
  {
   "cell_type": "code",
   "execution_count": 40,
   "id": "2833dd5b",
   "metadata": {},
   "outputs": [],
   "source": [
    "def match_choise(bnds,tarFile):\n",
    "    match =[]\n",
    "    for b in bnds:\n",
    "        m = [s for s in tarFile if (b+'.TIF') in s] + [s for s in tarFile if (b+'.txt') in s]\n",
    "        match.extend(m)\n",
    "            \n",
    "    return match"
   ]
  },
  {
   "cell_type": "code",
   "execution_count": 41,
   "id": "94bf7041",
   "metadata": {},
   "outputs": [],
   "source": [
    "def extract_tar1(path_tar,out_path,extract_all=True):\n",
    "    \n",
    "    path_tarfolder = glob.glob(path_tar+'/*.tar')\n",
    "    #pathlib.PurePath(List_of_im[0]).name[:-4]\n",
    "    \n",
    "    for tfile in path_tarfolder:\n",
    "        \n",
    "        if extract_all is True:\n",
    "            \n",
    "            fname = pathlib.PurePath(tfile).name[:-4] #get name of file\n",
    "            os.mkdir(out_path+'/'+fname)  #make folder with name of tar file\n",
    "            \n",
    "            my_tar = tarfile.open(tfile)            \n",
    "            my_tar.extractall(out_path+'/'+fname) # specify which folder to extract to\n",
    "            my_tar.close()\n",
    "        else:\n",
    "            \n",
    "            fname = pathlib.PurePath(tfile).name[:-4] #get name of file\n",
    "            os.mkdir(out_path+'/'+fname)  #make folder with name of tar file\n",
    "            print(tfile)\n",
    "            print(out_path+'/'+fname)\n",
    "            my_tar = tarfile.open(tfile)\n",
    "            files_in_tar = my_tar.getnames()\n",
    "            choise_ = choose_files()  # gives list of chosen bands\n",
    "            match_choise(choise_,files_in_tar)\n",
    "            for file in match_choise(choise_,files_in_tar):\n",
    "                my_tar.extract(file,out_path+'/'+fname)\n",
    "            my_tar.close()"
   ]
  },
  {
   "cell_type": "code",
   "execution_count": 44,
   "id": "a5545275",
   "metadata": {},
   "outputs": [],
   "source": [
    "def extract_tar(path_tar,out_path,extract_all=True):\n",
    "    \n",
    "    \"\"\"\n",
    "    path_tar : give path to the folder where .tar files are \n",
    "    \n",
    "    out_path : where to extract the files\n",
    "    \n",
    "    extract_all : True or False, wether to extract all the files or not.if False specify files.\n",
    "    \n",
    "    \"\"\"\n",
    "    \n",
    "    path_tarfolder = glob.glob(path_tar+'/*.tar')\n",
    "    #pathlib.PurePath(List_of_im[0]).name[:-4]\n",
    "    \n",
    "    if extract_all is True:\n",
    "        for tfile in path_tarfolder:\n",
    "                            \n",
    "            fname = pathlib.PurePath(tfile).name[:-4] #get name of file\n",
    "            os.mkdir(out_path+'/'+fname)  #make folder with name of tar file\n",
    "            \n",
    "            my_tar = tarfile.open(tfile)            \n",
    "            my_tar.extractall(out_path+'/'+fname) # specify which folder to extract to\n",
    "            my_tar.close()\n",
    "    else:\n",
    "        choise_ = choose_files()# gives key for chosen bands\n",
    "        print(choise_)\n",
    "        for tfile in path_tarfolder:\n",
    "            \n",
    "            fname = pathlib.PurePath(tfile).name[:-4] #get name of file\n",
    "            os.mkdir(out_path+'/'+fname)  #make folder with name of tar file\n",
    "            print(tfile)\n",
    "            print(out_path+'/'+fname)\n",
    "            my_tar = tarfile.open(tfile)\n",
    "            files_in_tar = my_tar.getnames()\n",
    "            #my_tar.close()\n",
    "            #choise_ = choose_files(files_in_tar)  # gives list of chosen bands\n",
    "            matchs = match_choise(choise_,files_in_tar)# gives list of chosen bands\n",
    "            print(matchs)\n",
    "            for file in matchs:\n",
    "                #my_tar = tarfile.open(tfile)\n",
    "                my_tar.extract(file,out_path+'/'+fname)\n",
    "            my_tar.close()"
   ]
  },
  {
   "cell_type": "code",
   "execution_count": 17,
   "id": "3923e0ca",
   "metadata": {},
   "outputs": [],
   "source": [
    "def ListBands_n_MTL(lsat_im_path):\n",
    "    \n",
    "    Bands = {'BAND1':[],'BAND2':[],'BAND3':[],'BAND4':[],'BAND5':[],'BAND6':[],\n",
    "         'BAND7':[],'BAND8':[],'BAND9':[],'BAND10':[],'BAND10':[],'BAND11':[],'BAND12':[]}\n",
    "\n",
    "    MTL_dict = {}\n",
    "\n",
    "    List_of_im = glob.glob(lsat_im_path+\"/L*/\")\n",
    "    \n",
    "    for path in List_of_im:\n",
    "        \n",
    "        lst_title = pathlib.PurePath(path).name[:25]\n",
    "        MTL_dict[lst_title] = glob.glob(f\"{path}*MTL.txt\")\n",
    "                \n",
    "        for n in range(1,13):\n",
    "            Band_no = f'BAND{n}'\n",
    "            band_path = glob.glob(f\"{path}*B{n}.tif\")\n",
    "            Bands[Band_no].extend(band_path)\n",
    "            \n",
    "    return Bands,MTL_dict\n",
    "        \n",
    "        "
   ]
  },
  {
   "cell_type": "code",
   "execution_count": 8,
   "id": "94b889cd",
   "metadata": {},
   "outputs": [],
   "source": [
    "lsat_im_path = \"C:/Users/Ananthu/Desktop/Landsat Images/Clipped\"#\"/L8*/\"\n",
    "tar_path = \"C:/Users/Ananthu/Desktop/Images\"\n",
    "out_tar = \"C:/Users/Ananthu/Desktop/Images/Testcode1\""
   ]
  },
  {
   "cell_type": "code",
   "execution_count": 53,
   "id": "e4d915c9",
   "metadata": {},
   "outputs": [
    {
     "name": "stdout",
     "output_type": "stream",
     "text": [
      "Give band or file name(b1,b2,b3,MTL, ..etc) type \"ok\" when done:ok\n",
      "[]\n",
      "C:/Users/Ananthu/Desktop/Images\\LC08_L2SP_143052_20210530_20210608_02_T1.tar\n",
      "C:/Users/Ananthu/Desktop/Images/Testcode1/LC08_L2SP_143052_20210530_20210608_02_T1\n",
      "[]\n"
     ]
    }
   ],
   "source": [
    "extract_tar(tar_path,out_tar,extract_all=False)"
   ]
  },
  {
   "cell_type": "code",
   "execution_count": 9,
   "id": "a86635f9",
   "metadata": {},
   "outputs": [
    {
     "name": "stdout",
     "output_type": "stream",
     "text": [
      "Give band or file name(b1,b2,b3,MTL, ..etc) type \"ok\" when done:b1\n",
      "Give band or file name(b1,b2,b3,MTL, ..etc) type \"ok\" when done:b2\n",
      "Give band or file name(b1,b2,b3,MTL, ..etc) type \"ok\" when done:ok\n",
      "['B1', 'B2']\n",
      "C:/Users/Ananthu/Desktop/Images\\LC08_L2SP_143052_20210530_20210608_02_T1.tar\n",
      "C:/Users/Ananthu/Desktop/Images/Testcode1/LC08_L2SP_143052_20210530_20210608_02_T1\n",
      "['LC08_L2SP_143052_20210530_20210608_02_T1_SR_B1.TIF', 'LC08_L2SP_143052_20210530_20210608_02_T1_SR_B2.TIF']\n"
     ]
    }
   ],
   "source": [
    "extraction.extract_tar(tar_path,out_tar,extract_all=False)"
   ]
  },
  {
   "cell_type": "code",
   "execution_count": 4,
   "id": "421baa29",
   "metadata": {},
   "outputs": [
    {
     "data": {
      "text/plain": [
       "['C:/Users/Ananthu/Desktop/Images\\\\LC08_L2SP_143052_20210530_20210608_02_T1.tar']"
      ]
     },
     "execution_count": 4,
     "metadata": {},
     "output_type": "execute_result"
    }
   ],
   "source": [
    "glob.glob(tar_path+'/*.tar')"
   ]
  },
  {
   "cell_type": "code",
   "execution_count": 6,
   "id": "d23d72d4",
   "metadata": {
    "scrolled": true
   },
   "outputs": [
    {
     "data": {
      "text/plain": [
       "['C:/Users/Ananthu/Desktop/Images\\\\LC08_L2SP_143052_20210530_20210608_02_T1.tar']"
      ]
     },
     "execution_count": 6,
     "metadata": {},
     "output_type": "execute_result"
    }
   ],
   "source": [
    "List_of_im = glob.glob(tar_path+'/*.tar')\n",
    "List_of_im"
   ]
  },
  {
   "cell_type": "code",
   "execution_count": 48,
   "id": "85f38a7e",
   "metadata": {},
   "outputs": [],
   "source": [
    "my_tar = tarfile.open(List_of_im[0])\n",
    "ll=my_tar.getnames()\n",
    "my_tar.close()"
   ]
  },
  {
   "cell_type": "code",
   "execution_count": 8,
   "id": "89d463eb",
   "metadata": {},
   "outputs": [
    {
     "data": {
      "text/plain": [
       "['LC08_L2SP_143052_20210530_20210608_02_T1_ANG.txt',\n",
       " 'LC08_L2SP_143052_20210530_20210608_02_T1_MTL.json',\n",
       " 'LC08_L2SP_143052_20210530_20210608_02_T1_MTL.txt',\n",
       " 'LC08_L2SP_143052_20210530_20210608_02_T1_MTL.xml',\n",
       " 'LC08_L2SP_143052_20210530_20210608_02_T1_QA_PIXEL.TIF',\n",
       " 'LC08_L2SP_143052_20210530_20210608_02_T1_QA_RADSAT.TIF',\n",
       " 'LC08_L2SP_143052_20210530_20210608_02_T1_SR_B1.TIF',\n",
       " 'LC08_L2SP_143052_20210530_20210608_02_T1_SR_B2.TIF',\n",
       " 'LC08_L2SP_143052_20210530_20210608_02_T1_SR_B3.TIF',\n",
       " 'LC08_L2SP_143052_20210530_20210608_02_T1_SR_B4.TIF',\n",
       " 'LC08_L2SP_143052_20210530_20210608_02_T1_SR_B5.TIF',\n",
       " 'LC08_L2SP_143052_20210530_20210608_02_T1_SR_B6.TIF',\n",
       " 'LC08_L2SP_143052_20210530_20210608_02_T1_SR_B7.TIF',\n",
       " 'LC08_L2SP_143052_20210530_20210608_02_T1_SR_QA_AEROSOL.TIF',\n",
       " 'LC08_L2SP_143052_20210530_20210608_02_T1_SR_stac.json',\n",
       " 'LC08_L2SP_143052_20210530_20210608_02_T1_ST_ATRAN.TIF',\n",
       " 'LC08_L2SP_143052_20210530_20210608_02_T1_ST_B10.TIF',\n",
       " 'LC08_L2SP_143052_20210530_20210608_02_T1_ST_CDIST.TIF',\n",
       " 'LC08_L2SP_143052_20210530_20210608_02_T1_ST_DRAD.TIF',\n",
       " 'LC08_L2SP_143052_20210530_20210608_02_T1_ST_EMIS.TIF',\n",
       " 'LC08_L2SP_143052_20210530_20210608_02_T1_ST_EMSD.TIF',\n",
       " 'LC08_L2SP_143052_20210530_20210608_02_T1_ST_QA.TIF',\n",
       " 'LC08_L2SP_143052_20210530_20210608_02_T1_ST_TRAD.TIF',\n",
       " 'LC08_L2SP_143052_20210530_20210608_02_T1_ST_URAD.TIF',\n",
       " 'LC08_L2SP_143052_20210530_20210608_02_T1_ST_stac.json',\n",
       " 'LC08_L2SP_143052_20210530_20210608_02_T1_thumb_large.jpeg',\n",
       " 'LC08_L2SP_143052_20210530_20210608_02_T1_thumb_small.jpeg']"
      ]
     },
     "execution_count": 8,
     "metadata": {},
     "output_type": "execute_result"
    }
   ],
   "source": [
    "ll"
   ]
  },
  {
   "cell_type": "code",
   "execution_count": 9,
   "id": "2ae35ac6",
   "metadata": {},
   "outputs": [],
   "source": [
    "a=\"B1\"\n",
    "a1 = [s for s in ll if (a+'.TIF') in s]"
   ]
  },
  {
   "cell_type": "code",
   "execution_count": 10,
   "id": "7722cdff",
   "metadata": {},
   "outputs": [],
   "source": [
    "a2= [s for s in ll if 'MTL.txt' in s]"
   ]
  },
  {
   "cell_type": "code",
   "execution_count": 11,
   "id": "96c07a7e",
   "metadata": {},
   "outputs": [
    {
     "data": {
      "text/plain": [
       "['LC08_L2SP_143052_20210530_20210608_02_T1_SR_B1.TIF',\n",
       " 'LC08_L2SP_143052_20210530_20210608_02_T1_MTL.txt']"
      ]
     },
     "execution_count": 11,
     "metadata": {},
     "output_type": "execute_result"
    }
   ],
   "source": [
    "a1+a2"
   ]
  },
  {
   "cell_type": "code",
   "execution_count": 12,
   "id": "1c285e57",
   "metadata": {},
   "outputs": [
    {
     "data": {
      "text/plain": [
       "'LC08_L2SP_143052_20210530_20210608_02_T1'"
      ]
     },
     "execution_count": 12,
     "metadata": {},
     "output_type": "execute_result"
    }
   ],
   "source": [
    "pathlib.PurePath(List_of_im[0]).name[:-4]"
   ]
  },
  {
   "cell_type": "code",
   "execution_count": 18,
   "id": "ff8b4769",
   "metadata": {
    "scrolled": true
   },
   "outputs": [
    {
     "data": {
      "text/plain": [
       "({'BAND1': ['C:/Users/Ananthu/Desktop/Landsat Images/Clipped\\\\L8_20210207\\\\L8_clip20210207_20210302_02_T1_B1.TIF',\n",
       "   'C:/Users/Ananthu/Desktop/Landsat Images/Clipped\\\\L8_20210302\\\\L8_clip20210302_20210311_02_T1_B1.TIF',\n",
       "   'C:/Users/Ananthu/Desktop/Landsat Images/Clipped\\\\L8_20210530\\\\L8_clip20210530_20210608_02_T1_B1.TIF',\n",
       "   'C:/Users/Ananthu/Desktop/Landsat Images/Clipped\\\\L8_20211224\\\\L8_clip20211224_20211230_02_T1_B1.TIF',\n",
       "   'C:/Users/Ananthu/Desktop/Landsat Images/Clipped\\\\L8_20220314\\\\L8_clip20314_20220322_02_T1_SR_B1.TIF',\n",
       "   'C:/Users/Ananthu/Desktop/Landsat Images/Clipped\\\\L8_20220420\\\\L8_clip20415_20220420_02_T1_SR_B1.TIF'],\n",
       "  'BAND2': ['C:/Users/Ananthu/Desktop/Landsat Images/Clipped\\\\L8_20210207\\\\L8_clip20210207_20210302_02_T1_B2.TIF',\n",
       "   'C:/Users/Ananthu/Desktop/Landsat Images/Clipped\\\\L8_20210302\\\\L8_clip20210302_20210311_02_T1_B2.TIF',\n",
       "   'C:/Users/Ananthu/Desktop/Landsat Images/Clipped\\\\L8_20210530\\\\L8_clip20210530_20210608_02_T1_B2.TIF',\n",
       "   'C:/Users/Ananthu/Desktop/Landsat Images/Clipped\\\\L8_20211224\\\\L8_clip20211224_20211230_02_T1_B2.TIF',\n",
       "   'C:/Users/Ananthu/Desktop/Landsat Images/Clipped\\\\L8_20220314\\\\L8_clip20314_20220322_02_T1_SR_B2.TIF',\n",
       "   'C:/Users/Ananthu/Desktop/Landsat Images/Clipped\\\\L8_20220420\\\\L8_clip20415_20220420_02_T1_SR_B2.TIF'],\n",
       "  'BAND3': ['C:/Users/Ananthu/Desktop/Landsat Images/Clipped\\\\L8_20210207\\\\L8_clip20210207_20210302_02_T1_B3.TIF',\n",
       "   'C:/Users/Ananthu/Desktop/Landsat Images/Clipped\\\\L8_20210302\\\\L8_clip20210302_20210311_02_T1_B3.TIF',\n",
       "   'C:/Users/Ananthu/Desktop/Landsat Images/Clipped\\\\L8_20210530\\\\L8_clip20210530_20210608_02_T1_B3.TIF',\n",
       "   'C:/Users/Ananthu/Desktop/Landsat Images/Clipped\\\\L8_20211224\\\\L8_clip20211224_20211230_02_T1_B3.TIF',\n",
       "   'C:/Users/Ananthu/Desktop/Landsat Images/Clipped\\\\L8_20220314\\\\L8_clip20314_20220322_02_T1_SR_B3.TIF',\n",
       "   'C:/Users/Ananthu/Desktop/Landsat Images/Clipped\\\\L8_20220420\\\\L8_clip20415_20220420_02_T1_SR_B3.TIF'],\n",
       "  'BAND4': ['C:/Users/Ananthu/Desktop/Landsat Images/Clipped\\\\L8_20210207\\\\L8_clip20210207_20210302_02_T1_B4.TIF',\n",
       "   'C:/Users/Ananthu/Desktop/Landsat Images/Clipped\\\\L8_20210302\\\\L8_clip20210302_20210311_02_T1_B4.TIF',\n",
       "   'C:/Users/Ananthu/Desktop/Landsat Images/Clipped\\\\L8_20210530\\\\L8_clip20210530_20210608_02_T1_B4.TIF',\n",
       "   'C:/Users/Ananthu/Desktop/Landsat Images/Clipped\\\\L8_20211224\\\\L8_clip20211224_20211230_02_T1_B4.TIF',\n",
       "   'C:/Users/Ananthu/Desktop/Landsat Images/Clipped\\\\L8_20220314\\\\L8_clip20314_20220322_02_T1_SR_B4.TIF',\n",
       "   'C:/Users/Ananthu/Desktop/Landsat Images/Clipped\\\\L8_20220420\\\\L8_clip20415_20220420_02_T1_SR_B4.TIF'],\n",
       "  'BAND5': ['C:/Users/Ananthu/Desktop/Landsat Images/Clipped\\\\L8_20210207\\\\L8_clip20210207_20210302_02_T1_B5.TIF',\n",
       "   'C:/Users/Ananthu/Desktop/Landsat Images/Clipped\\\\L8_20210302\\\\L8_clip20210302_20210311_02_T1_B5.TIF',\n",
       "   'C:/Users/Ananthu/Desktop/Landsat Images/Clipped\\\\L8_20210530\\\\L8_clip20210530_20210608_02_T1_B5.TIF',\n",
       "   'C:/Users/Ananthu/Desktop/Landsat Images/Clipped\\\\L8_20211224\\\\L8_clip20211224_20211230_02_T1_B5.TIF',\n",
       "   'C:/Users/Ananthu/Desktop/Landsat Images/Clipped\\\\L8_20220314\\\\L8_clip20314_20220322_02_T1_SR_B5.TIF',\n",
       "   'C:/Users/Ananthu/Desktop/Landsat Images/Clipped\\\\L8_20220420\\\\L8_clip20415_20220420_02_T1_SR_B5.TIF'],\n",
       "  'BAND6': ['C:/Users/Ananthu/Desktop/Landsat Images/Clipped\\\\L8_20210207\\\\L8_clip20210207_20210302_02_T1_B6.TIF',\n",
       "   'C:/Users/Ananthu/Desktop/Landsat Images/Clipped\\\\L8_20210302\\\\L8_clip20210302_20210311_02_T1_B6.TIF',\n",
       "   'C:/Users/Ananthu/Desktop/Landsat Images/Clipped\\\\L8_20210530\\\\L8_clip20210530_20210608_02_T1_B6.TIF',\n",
       "   'C:/Users/Ananthu/Desktop/Landsat Images/Clipped\\\\L8_20211224\\\\L8_clip20211224_20211230_02_T1_B6.TIF',\n",
       "   'C:/Users/Ananthu/Desktop/Landsat Images/Clipped\\\\L8_20220314\\\\L8_clip20314_20220322_02_T1_SR_B6.TIF',\n",
       "   'C:/Users/Ananthu/Desktop/Landsat Images/Clipped\\\\L8_20220420\\\\L8_clip20415_20220420_02_T1_SR_B6.TIF'],\n",
       "  'BAND7': ['C:/Users/Ananthu/Desktop/Landsat Images/Clipped\\\\L8_20210207\\\\L8_clip20210207_20210302_02_T1_B7.TIF',\n",
       "   'C:/Users/Ananthu/Desktop/Landsat Images/Clipped\\\\L8_20210302\\\\L8_clip20210302_20210311_02_T1_B7.TIF',\n",
       "   'C:/Users/Ananthu/Desktop/Landsat Images/Clipped\\\\L8_20210530\\\\L8_clip20210530_20210608_02_T1_B7.TIF',\n",
       "   'C:/Users/Ananthu/Desktop/Landsat Images/Clipped\\\\L8_20211224\\\\L8_clip20211224_20211230_02_T1_B7.TIF',\n",
       "   'C:/Users/Ananthu/Desktop/Landsat Images/Clipped\\\\L8_20220314\\\\L8_clip20314_20220322_02_T1_SR_B7.TIF',\n",
       "   'C:/Users/Ananthu/Desktop/Landsat Images/Clipped\\\\L8_20220420\\\\L8_clip20415_20220420_02_T1_SR_B7.TIF'],\n",
       "  'BAND8': [],\n",
       "  'BAND9': [],\n",
       "  'BAND10': [],\n",
       "  'BAND11': [],\n",
       "  'BAND12': []},\n",
       " {'L8_20210207': ['C:/Users/Ananthu/Desktop/Landsat Images/Clipped\\\\L8_20210207\\\\LC08_L1TP_143052_20210207_20210302_02_T1_MTL.txt'],\n",
       "  'L8_20210302': ['C:/Users/Ananthu/Desktop/Landsat Images/Clipped\\\\L8_20210302\\\\LC08_L1TP_144052_20210302_20210311_02_T1_MTL.txt'],\n",
       "  'L8_20210530': ['C:/Users/Ananthu/Desktop/Landsat Images/Clipped\\\\L8_20210530\\\\LC08_L1TP_143052_20210530_20210608_02_T1_MTL.txt'],\n",
       "  'L8_20211224': ['C:/Users/Ananthu/Desktop/Landsat Images/Clipped\\\\L8_20211224\\\\LC08_L1TP_143052_20211224_20211230_02_T1_MTL.txt'],\n",
       "  'L8_20220314': ['C:/Users/Ananthu/Desktop/Landsat Images/Clipped\\\\L8_20220314\\\\LC08_L2SP_143052_20220314_20220322_02_T1_MTL.txt'],\n",
       "  'L8_20220420': ['C:/Users/Ananthu/Desktop/Landsat Images/Clipped\\\\L8_20220420\\\\LC08_L2SP_143052_20220415_20220420_02_T1_MTL.txt']})"
      ]
     },
     "execution_count": 18,
     "metadata": {},
     "output_type": "execute_result"
    }
   ],
   "source": [
    "ListBands_n_MTL(lsat_im_path)"
   ]
  },
  {
   "cell_type": "code",
   "execution_count": null,
   "id": "89310c80",
   "metadata": {},
   "outputs": [],
   "source": []
  },
  {
   "cell_type": "code",
   "execution_count": null,
   "id": "35a84d48",
   "metadata": {},
   "outputs": [],
   "source": []
  }
 ],
 "metadata": {
  "kernelspec": {
   "display_name": "Python 3 (ipykernel)",
   "language": "python",
   "name": "python3"
  },
  "language_info": {
   "codemirror_mode": {
    "name": "ipython",
    "version": 3
   },
   "file_extension": ".py",
   "mimetype": "text/x-python",
   "name": "python",
   "nbconvert_exporter": "python",
   "pygments_lexer": "ipython3",
   "version": "3.8.13"
  }
 },
 "nbformat": 4,
 "nbformat_minor": 5
}
