{
 "cells": [
  {
   "cell_type": "code",
   "execution_count": 1,
   "id": "0b3184fb",
   "metadata": {},
   "outputs": [],
   "source": [
    "import numpy as np\n",
    "from osgeo import gdal,ogr,osr\n",
    "import geopandas as gpd\n",
    "import glob,os,pathlib"
   ]
  },
  {
   "cell_type": "code",
   "execution_count": 2,
   "id": "ee158a17",
   "metadata": {},
   "outputs": [],
   "source": [
    "image_path = \"C:/Users/Ananthu/Desktop/Images/landsat/Landsat 8 44N\"\n",
    "cliped_path = \"C:/Users/Ananthu/Desktop/Images/Testcode1\""
   ]
  },
  {
   "cell_type": "code",
   "execution_count": 23,
   "id": "3f831925",
   "metadata": {},
   "outputs": [],
   "source": [
    "List_of_images = glob.glob(image_path+'/*B*.TIF')"
   ]
  },
  {
   "cell_type": "code",
   "execution_count": 26,
   "id": "f08a1193",
   "metadata": {},
   "outputs": [],
   "source": [
    "List_of_images.sort()"
   ]
  },
  {
   "cell_type": "code",
   "execution_count": 27,
   "id": "2c66b360",
   "metadata": {},
   "outputs": [
    {
     "data": {
      "text/plain": [
       "['C:/Users/Ananthu/Desktop/Images/landsat/Landsat 8 44N\\\\LC08_L2SP_143052_20220415_20220420_02_T1_ST_B10.TIF',\n",
       " 'C:/Users/Ananthu/Desktop/Images/landsat/Landsat 8 44N\\\\LC08_L2SP_143052_20220415_20220420_02_T1_SR_B7.TIF',\n",
       " 'C:/Users/Ananthu/Desktop/Images/landsat/Landsat 8 44N\\\\LC08_L2SP_143052_20220415_20220420_02_T1_SR_B6.TIF',\n",
       " 'C:/Users/Ananthu/Desktop/Images/landsat/Landsat 8 44N\\\\LC08_L2SP_143052_20220415_20220420_02_T1_SR_B5.TIF',\n",
       " 'C:/Users/Ananthu/Desktop/Images/landsat/Landsat 8 44N\\\\LC08_L2SP_143052_20220415_20220420_02_T1_SR_B4.TIF',\n",
       " 'C:/Users/Ananthu/Desktop/Images/landsat/Landsat 8 44N\\\\LC08_L2SP_143052_20220415_20220420_02_T1_SR_B3.TIF',\n",
       " 'C:/Users/Ananthu/Desktop/Images/landsat/Landsat 8 44N\\\\LC08_L2SP_143052_20220415_20220420_02_T1_SR_B2.TIF',\n",
       " 'C:/Users/Ananthu/Desktop/Images/landsat/Landsat 8 44N\\\\LC08_L2SP_143052_20220415_20220420_02_T1_SR_B1.TIF']"
      ]
     },
     "execution_count": 27,
     "metadata": {},
     "output_type": "execute_result"
    }
   ],
   "source": [
    "List_of_images"
   ]
  },
  {
   "cell_type": "code",
   "execution_count": 5,
   "id": "303cd2b9",
   "metadata": {},
   "outputs": [],
   "source": [
    "def Create_boundBox(shape_save_path,projection):\n",
    "    \"\"\"\n",
    "    shape_save_path : Path to which the created shape file is saved.\n",
    "    projection : Cordinate reference of the shape obtained from the image.\n",
    "    input for the cordinates are then given in input() fn according to the CRS\n",
    "    \n",
    "    \"\"\"\n",
    "    \n",
    "    tllat = (float(input('Give TOP LEFT Lattitude in Decimal Degrees or northings in case of UTM:')))\n",
    "    tllong = (float(input('Give TOP LEFT longitude in Decimal Degrees or eastings in case of UTM:')))\n",
    "\n",
    "    brlat = (float(input('Give BOTTOM RIGHT Lattitude in Decimal Degrees or northings in case of UTM:')))\n",
    "    brlong = (float(input('Give BOTTOM RIGHT Longitude in Decimal Degrees or eastings in case of UTM :')))\n",
    "\n",
    "    Hdist = brlong-tllong\n",
    "    Vdist = tllat-brlat\n",
    "    shape_name = input('Give name for shape file(avoid invalied filenames):')\n",
    "    #pointstllat,tllong\n",
    "    #tllat,tllong,trlat,trlong,brlat,brlong,bllat,bllong =tllat,tllong ,tllat,tllong+Hdist ,brlat,brlong , tllat-Vdist,tllong\n",
    "    print(tllat,tllong ,tllat,tllong+Hdist ,brlat,brlong , tllat-Vdist,tllong)\n",
    "\n",
    "\n",
    "    ring = ogr.Geometry(ogr.wkbLinearRing) #(long,lat) anticlock\n",
    "    ring.AddPoint(tllong,tllat-Vdist) #11.586101282798912, 77.63620736510678\n",
    "    ring.AddPoint(brlong,brlat) #, 77.99657914761914\n",
    "    ring.AddPoint(tllong+Hdist,tllat) #11.989962973654878, 78.00569199522926\n",
    "    ring.AddPoint(tllong,tllat) #11.989962973654878\n",
    "    ring.AddPoint(tllong,tllat-Vdist)\n",
    "\n",
    "    poly = ogr.Geometry(ogr.wkbPolygon)\n",
    "    poly.AddGeometry(ring)\n",
    "\n",
    "    driver = ogr.GetDriverByName(\"ESRI Shapefile\")\n",
    "\n",
    "    outds = driver.CreateDataSource(f\"{shape_save_path}/{shape_name}.shp\") # give path to save .shp\n",
    "    Outlayer = outds.CreateLayer(\"Study_Area\",projection)\n",
    "    feature = ogr.Feature(Outlayer.GetLayerDefn())\n",
    "    feature.SetGeometry(poly)\n",
    "    Outlayer.CreateFeature(feature)\n",
    "\n",
    "    outds = Outlayer = feature = None\n",
    "\n",
    "    path_to_shape = f\"{shape_save_path}/{shape_name}.shp\"\n",
    "    \n",
    "    return path_to_shape\n"
   ]
  },
  {
   "cell_type": "code",
   "execution_count": 22,
   "id": "c8bba4b3",
   "metadata": {},
   "outputs": [],
   "source": [
    "def clip_with_cordinate(path_input,outPath,path_to_shape,shape_available=False):\n",
    "    \"\"\"\n",
    "    path_input : Image to be clipped is given.\n",
    "    outPath : Out put folder path. Only give path for directry to which you want to save images the function create folders\n",
    "               and file  with names.\n",
    "    shape_available : bool, wether shape file for clipping available or not. True if Yes False if no.\n",
    "    path_to_shape : Path to the .shp file if it is available or path to save the created shape if it is not.\n",
    "    \n",
    "    \"\"\"\n",
    "    folderNm = pathlib.PurePath(path_input).name[:40]\n",
    "    fileNm = pathlib.PurePath(path_input).name\n",
    "    \n",
    "    #print(path_to_shape)\n",
    "\n",
    "    W_im = gdal.Open(path_input)\n",
    "    rasterBand = W_im.GetRasterBand(1)\n",
    "    elevArray = W_im.GetRasterBand(1).ReadAsArray().astype(np.float32)\n",
    "    \n",
    "    projection = osr.SpatialReference(wkt=W_im.GetProjection())\n",
    "    #\n",
    "    if shape_available == True:\n",
    "        options = gdal.WarpOptions(cutlineDSName=path_to_shape,format=\"GTiff\",cropToCutline=True,dstNodata=np.nan)\n",
    "        outBand = gdal.Warp(srcDSOrSrcDSTab=path_input,\n",
    "                            destNameOrDestDS=outPath+'/'+folderNm+'/Clipped_'+fileNm,\n",
    "                            options=options)\n",
    "        outBand= None\n",
    "        \n",
    "        print('saved at :',outPath+'/'+folderNm+'/Clipped_'+fileNm)\n",
    "            \n",
    "    else:\n",
    "        shape_save_path = path_to_shape\n",
    "        path_to_shape=Create_boundBox(shape_save_path,projection)\n",
    "        \n",
    "        \n",
    "        options = gdal.WarpOptions(cutlineDSName=path_to_shape,format=\"GTiff\",cropToCutline=True,dstNodata=np.nan)\n",
    "        outBand = gdal.Warp(srcDSOrSrcDSTab=path_input,\n",
    "                            destNameOrDestDS=outPath+'/'+folderNm+'/Clipped_'+fileNm,\n",
    "                            options=options)\n",
    "        \n",
    "        print('saved at :',outPath+'/'+folderNm+'/Clipped_'+fileNm)\n",
    "        shape_available = True\n",
    "        \n",
    "    return path_to_shape ,shape_available\n",
    "        \n",
    "        \n",
    "\n",
    "        #path_to_shape = input('give path to shape:')\n",
    "               "
   ]
  },
  {
   "cell_type": "code",
   "execution_count": null,
   "id": "d8144019",
   "metadata": {},
   "outputs": [],
   "source": [
    "def Clip_to_bound(In_path,shp_path,output_path):\n",
    "    \n",
    "    folderNm = pathlib.PurePath(path_input).name[:40]\n",
    "    fileNm = pathlib.PurePath(path_input).name\n",
    "    \n",
    "    options = gdal.WarpOptions(cutlineDSName=shp_path,format=\"GTiff\",cropToCutline=True,dstNodata=np.nan)\n",
    "    outBand = gdal.Warp(srcDSOrSrcDSTab=In_path,\n",
    "                        destNameOrDestDS=output_path+'/'+folderNm+'/Clipped_'+fileNm,\n",
    "                        options=options)\n",
    "    outBand= None\n",
    "    \n",
    "    print('saved at :',outPath+'/'+folderNm+'/Clipped_'+fileNm)\n",
    "        "
   ]
  },
  {
   "cell_type": "code",
   "execution_count": 1,
   "id": "628703df",
   "metadata": {},
   "outputs": [],
   "source": [
    "def Clip_to_bound1(In_path,shp_path,output_path):\n",
    "    \n",
    "    #folderNm = pathlib.PurePath(path_input).name[:40]\n",
    "    #fileNm = pathlib.PurePath(path_input).name\n",
    "    \n",
    "    options = gdal.WarpOptions(cutlineDSName=shp_path,format=\"GTiff\",cropToCutline=True,dstNodata=np.nan)\n",
    "    outBand = gdal.Warp(srcDSOrSrcDSTab=In_path,\n",
    "                        destNameOrDestDS=output_path,\n",
    "                        options=options)\n",
    "    outBand= None\n",
    "    "
   ]
  },
  {
   "cell_type": "code",
   "execution_count": 16,
   "id": "f1750474",
   "metadata": {},
   "outputs": [
    {
     "data": {
      "text/plain": [
       "'C:/Users/Ananthu/Desktop/Images/landsat/Landsat 8 44N\\\\LC08_L2SP_143052_20220415_20220420_02_T1_SR_B1.TIF'"
      ]
     },
     "execution_count": 16,
     "metadata": {},
     "output_type": "execute_result"
    }
   ],
   "source": [
    "file = List_of_images[0]\n",
    "file"
   ]
  },
  {
   "cell_type": "code",
   "execution_count": 19,
   "id": "3fb1638a",
   "metadata": {},
   "outputs": [
    {
     "name": "stdout",
     "output_type": "stream",
     "text": [
      "Is shp file available?:type-> 1 for True, 0 for False : 0\n",
      "Give valied path to shape file or folder to save shape file : C:/Users/Ananthu/Desktop/Images/Testcode1\n",
      "Give TOP LEFT Lattitude in \"Decimal Degrees\":1326984\n",
      "Give TOP LEFT longitude in \"Decimal Degrees\":133286\n",
      "Give BOTTOM RIGHT Lattitude in \"Decimal Degrees\":1282929\n",
      "Give BOTTOM RIGHT Longitude in \"Decimal Degrees\":173664\n",
      "Give name for shape file(avoid invalied filenames):test8\n",
      "1326984.0 133286.0 1326984.0 173664.0 1282929.0 173664.0 1282929.0 133286.0\n",
      "saved at : C:/Users/Ananthu/Desktop/Images/Testcode1\n",
      "saved at : C:/Users/Ananthu/Desktop/Images/Testcode1\n",
      "saved at : C:/Users/Ananthu/Desktop/Images/Testcode1\n",
      "saved at : C:/Users/Ananthu/Desktop/Images/Testcode1\n",
      "saved at : C:/Users/Ananthu/Desktop/Images/Testcode1\n",
      "saved at : C:/Users/Ananthu/Desktop/Images/Testcode1\n",
      "saved at : C:/Users/Ananthu/Desktop/Images/Testcode1\n",
      "saved at : C:/Users/Ananthu/Desktop/Images/Testcode1\n"
     ]
    }
   ],
   "source": [
    "#folderNm = pathlib.PurePath(file).name[:40]\n",
    "#fileNm = pathlib.PurePath(file).name\n",
    "\n",
    "# Clip images in a folder\n",
    "shape_available1=bool(int(input(\"Is shp file available?:type-> 1 for True, 0 for False : \"))) \n",
    "path_to_shape1 = input(\"Give valied path to shape file or folder to save shape file : \")\n",
    "for file in List_of_images:\n",
    "    folderNm = pathlib.PurePath(file).name[:40]\n",
    "    try:\n",
    "        os.stat(cliped_path+'/'+folderNm)\n",
    "    except:\n",
    "        os.mkdir(cliped_path+'/'+folderNm)\n",
    "    else:\n",
    "        pass\n",
    "    #print(path_shape1)\n",
    "    #os.mkdir(out_path+'/'+folderNm)\n",
    "    path,stat = clip_with_cordinate(file,cliped_path,path_to_shape1,shape_available1)\n",
    "    \n",
    "    path_to_shape1 = path\n",
    "    shape_available1 = stat"
   ]
  },
  {
   "cell_type": "code",
   "execution_count": 56,
   "id": "a9a579e1",
   "metadata": {},
   "outputs": [],
   "source": [
    "shp_path = 'C:/Users/Ananthu/Desktop/Images/Testcode1/shpp/Bound.shp'"
   ]
  },
  {
   "cell_type": "code",
   "execution_count": null,
   "id": "20597d9b",
   "metadata": {},
   "outputs": [],
   "source": [
    "Give TOP LEFT Lattitude in \"Decimal Degrees\":11.989962973654878\n",
    "Give TOP LEFT longitude in \"Decimal Degrees\":77.63620736510678\n",
    "Give BOTTOM RIGHT Lattitude in \"Decimal Degrees\":11.586101282798912\n",
    "Give BOTTOM RIGHT Longitude in \"Decimal Degrees\":78.00569199522926\n",
    "Give name for shape file(avoid invalied filenames):test"
   ]
  },
  {
   "cell_type": "code",
   "execution_count": 42,
   "id": "fdb6f759",
   "metadata": {},
   "outputs": [
    {
     "data": {
      "text/plain": [
       "'C:/Users/Ananthu/Desktop/Images/Testcode1/LC08_L1TP_144053_20210302_20210311_02_T1'"
      ]
     },
     "execution_count": 42,
     "metadata": {},
     "output_type": "execute_result"
    }
   ],
   "source": [
    "cliped_path+'/'+folderNm"
   ]
  },
  {
   "cell_type": "code",
   "execution_count": null,
   "id": "77c32e40",
   "metadata": {},
   "outputs": [],
   "source": [
    "#####LONG ### LAT\n",
    "BR = 173664,1282929\n",
    "TL = 133286,1326984\n",
    "BL = 133286,1282929\n",
    "TR = 173664,1326984"
   ]
  },
  {
   "cell_type": "code",
   "execution_count": 84,
   "id": "f1c8bd2b",
   "metadata": {},
   "outputs": [],
   "source": [
    "\n",
    "try:\n",
    "    os.stat(image_path)\n",
    "except:\n",
    "    ans=False\n",
    "else:\n",
    "    ans=True"
   ]
  },
  {
   "cell_type": "code",
   "execution_count": 60,
   "id": "bb6315fd",
   "metadata": {},
   "outputs": [
    {
     "data": {
      "text/plain": [
       "'LC08_L2SP_143052_20220415_20220420_02_T1_QA_PIXEL.TIF'"
      ]
     },
     "execution_count": 60,
     "metadata": {},
     "output_type": "execute_result"
    }
   ],
   "source": [
    "pathlib.PurePath(file).name"
   ]
  },
  {
   "cell_type": "code",
   "execution_count": 67,
   "id": "7f3a6e1f",
   "metadata": {},
   "outputs": [
    {
     "data": {
      "text/plain": [
       "['C:/Users/Ananthu/Desktop/Images/landsat/Landsat 8 44N\\\\LC08_L2SP_143052_20220415_20220420_02_T1_SR_B1.TIF']"
      ]
     },
     "execution_count": 67,
     "metadata": {},
     "output_type": "execute_result"
    }
   ],
   "source": [
    "List_of_images"
   ]
  },
  {
   "cell_type": "code",
   "execution_count": 96,
   "id": "839e84f8",
   "metadata": {},
   "outputs": [
    {
     "data": {
      "text/plain": [
       "'LC08_L1TP_144053_20210302_20210311_02_T1'"
      ]
     },
     "execution_count": 96,
     "metadata": {},
     "output_type": "execute_result"
    }
   ],
   "source": [
    "pathlib.PurePath(List_of_images[0]).name[:40]"
   ]
  },
  {
   "cell_type": "code",
   "execution_count": 21,
   "id": "376651dc",
   "metadata": {},
   "outputs": [
    {
     "data": {
      "text/plain": [
       "'LC08_L2SP_143052_20220415_20220420_02_T1'"
      ]
     },
     "execution_count": 21,
     "metadata": {},
     "output_type": "execute_result"
    }
   ],
   "source": [
    "folderNm"
   ]
  },
  {
   "cell_type": "code",
   "execution_count": 114,
   "id": "0760e284",
   "metadata": {},
   "outputs": [],
   "source": [
    "def conadd(a,b,addt = False):\n",
    "    if addt==True:\n",
    "        \n",
    "        c =  a+b\n",
    "    else:\n",
    "        c = a+b+a\n",
    "        \n",
    "        addt = True\n",
    "    return c,addt"
   ]
  },
  {
   "cell_type": "code",
   "execution_count": 117,
   "id": "2eb8138f",
   "metadata": {},
   "outputs": [
    {
     "name": "stdout",
     "output_type": "stream",
     "text": [
      "\n",
      "0\n",
      "c is 1\n",
      "False\n",
      "1\n",
      "c is 5\n",
      "True\n",
      "2\n",
      "c is 3\n",
      "True\n"
     ]
    }
   ],
   "source": [
    "c=1\n",
    "addt=bool(input())\n",
    "for i in range(3):\n",
    "    print(i)\n",
    "    print('c is',c)\n",
    "    print(addt)\n",
    "    \n",
    "    c1,a =conadd(2,1,addt)\n",
    "    c=c1\n",
    "    addt=a\n",
    "    "
   ]
  },
  {
   "cell_type": "code",
   "execution_count": 11,
   "id": "143a021a",
   "metadata": {},
   "outputs": [],
   "source": [
    "a=''\n",
    "a=a+'dsvsdv'"
   ]
  },
  {
   "cell_type": "code",
   "execution_count": 12,
   "id": "72f4eb7f",
   "metadata": {},
   "outputs": [
    {
     "data": {
      "text/plain": [
       "'dsvsdv'"
      ]
     },
     "execution_count": 12,
     "metadata": {},
     "output_type": "execute_result"
    }
   ],
   "source": [
    "a"
   ]
  },
  {
   "cell_type": "code",
   "execution_count": 28,
   "id": "28ffe4d9",
   "metadata": {},
   "outputs": [
    {
     "name": "stdout",
     "output_type": "stream",
     "text": [
      "'C:/Users/Ananthu/Desktop/Images/Testcode1'\n"
     ]
    }
   ],
   "source": [
    "shape_name = 'bijno'\n",
    "shape_save_path=input()#'C:/Users/Ananthu/Desktop/Images/Testcode1'"
   ]
  },
  {
   "cell_type": "code",
   "execution_count": 29,
   "id": "7e16f35e",
   "metadata": {},
   "outputs": [
    {
     "data": {
      "text/plain": [
       "\"'C:/Users/Ananthu/Desktop/Images/Testcode1'/bijno.shp\""
      ]
     },
     "execution_count": 29,
     "metadata": {},
     "output_type": "execute_result"
    }
   ],
   "source": [
    "f\"{shape_save_path}/{shape_name}.shp\""
   ]
  },
  {
   "cell_type": "code",
   "execution_count": 2,
   "id": "07d7dbfb",
   "metadata": {},
   "outputs": [
    {
     "data": {
      "text/plain": [
       "'LC08_L2SP_143052_20210530_20210608_0'"
      ]
     },
     "execution_count": 2,
     "metadata": {},
     "output_type": "execute_result"
    }
   ],
   "source": [
    "('LC08_L2SP_143052_20210530_20210608_02_T1')[:-4]"
   ]
  },
  {
   "cell_type": "code",
   "execution_count": null,
   "id": "7fd6148b",
   "metadata": {},
   "outputs": [],
   "source": []
  }
 ],
 "metadata": {
  "kernelspec": {
   "display_name": "Python 3 (ipykernel)",
   "language": "python",
   "name": "python3"
  },
  "language_info": {
   "codemirror_mode": {
    "name": "ipython",
    "version": 3
   },
   "file_extension": ".py",
   "mimetype": "text/x-python",
   "name": "python",
   "nbconvert_exporter": "python",
   "pygments_lexer": "ipython3",
   "version": "3.8.13"
  }
 },
 "nbformat": 4,
 "nbformat_minor": 5
}
