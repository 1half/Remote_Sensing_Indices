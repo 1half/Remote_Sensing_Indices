{
 "cells": [
  {
   "cell_type": "code",
   "execution_count": 1,
   "id": "94848f46",
   "metadata": {},
   "outputs": [],
   "source": [
    "import numpy as np\n",
    "from osgeo import gdal, ogr,osr\n",
    "import matplotlib.pyplot as plt\n",
    "import glob,os,pathlib"
   ]
  },
  {
   "cell_type": "code",
   "execution_count": 1,
   "id": "85cbc6c5",
   "metadata": {},
   "outputs": [],
   "source": [
    "def ToRasterArray(band):\n",
    "    Rast_Band=[]\n",
    "    for b in band:\n",
    "        W_im = gdal.Open(b)\n",
    "        Rast_Band.append(W_im.GetRasterBand(1).ReadAsArray().astype(np.float32))\n",
    "    return Rast_Band"
   ]
  },
  {
   "cell_type": "code",
   "execution_count": 4,
   "id": "131391f3",
   "metadata": {},
   "outputs": [],
   "source": [
    "def saveRaster(dataset,datasetPath,cols,rows,projection,geotransform):\n",
    "    rasterSet = gdal.GetDriverByName('GTiff').Create(datasetPath,cols, rows,1,gdal.GDT_Float32)\n",
    "    rasterSet.SetProjection(projection)\n",
    "    rasterSet.SetGeoTransform(geotransform)\n",
    "    rasterSet.GetRasterBand(1).WriteArray(dataset)\n",
    "    rasterSet.GetRasterBand(1).SetNoDataValue(-999)\n",
    "    rasterSet = None"
   ]
  },
  {
   "cell_type": "code",
   "execution_count": 5,
   "id": "ca3e0329",
   "metadata": {},
   "outputs": [],
   "source": [
    "def get_ndvi(B_5,B_4):\n",
    "    ndvi = np.divide(B_5 - B_4, B_4+ B_5,where=(B_5 - B_4)!=0)\n",
    "    return ndvi\n",
    "\n",
    "def get_ndwi(B_5,B_3):\n",
    "    ndwi = np.divide(B_3 - B_5, B_3+ B_5,where=(B_3 - B_5)!=0)\n",
    "    return ndwi\n",
    "\n",
    "def get_mndwi(B_6,B_3):\n",
    "    mndwi = np.divide(B_3 - B_6, B_3+ B_6,where=(B_3 - B_6)!=0)\n",
    "    return mndwi"
   ]
  },
  {
   "cell_type": "code",
   "execution_count": 6,
   "id": "4ee8fb61",
   "metadata": {},
   "outputs": [],
   "source": [
    "def get_ndmi(B_5,B_6):\n",
    "    ndmi = np.divide(B_5 - B_6, B_5+ B_6,where=(B_5 - B_6)!=0)\n",
    "    return ndmi\n",
    "\n",
    "def get_awei(B_5,B_3,B_7,B_6):\n",
    "    awei = 4 * (B_3 - B_7) - (0.25 * B_5 + 2.75 * B_6) \n",
    "    return awei\n",
    "\n",
    "def get_wri(B_5,B_3,B_4,B_7):\n",
    "    wri = np.divide(B_3 + B_4, B_5+ B_7)\n",
    "    return wri"
   ]
  },
  {
   "cell_type": "code",
   "execution_count": 7,
   "id": "f1101587",
   "metadata": {},
   "outputs": [],
   "source": [
    "def get_n2(B_5,B_7):\n",
    "    #p = (2.713*np.log((B_2+B_3)))\n",
    "    TN = np.divide((B_5-B_7),(0.865-2.2))\n",
    "    return TN"
   ]
  },
  {
   "cell_type": "code",
   "execution_count": 1,
   "id": "65368ad0",
   "metadata": {},
   "outputs": [],
   "source": [
    "\n",
    "def IndexCalculation(path_input,outPath):\n",
    "    \"\"\"\n",
    "    path_input : Image folder path containing Band collection from same time.\n",
    "    outPath : Out put folder path.\n",
    "    \n",
    "    \"\"\"\n",
    "    \n",
    "    List_of_img = glob.glob(path_input+'/*B*.TIF')\n",
    "    List_of_img.sort()\n",
    "    #bands = []\n",
    "    raster_array = []\n",
    "    folderNm = pathlib.PurePath(path_input).name[:40]\n",
    "    #fileNm = pathlib.PurePath(path_input).name\n",
    "    \n",
    "    for img in List_of_img:\n",
    "        W_im = gdal.Open(img)\n",
    "        #rasterBand = W_im.GetRasterBand(1)\n",
    "        raster_array.append(W_im.GetRasterBand(1).ReadAsArray().astype(np.float32))\n",
    "\n",
    "        #crs_ = osr.SpatialReference(wkt=W_im.GetProjection())\n",
    "        \n",
    "    cols =  W_im.RasterXSize\n",
    "    rows =  W_im.RasterYSize\n",
    "    projection = W_im.GetProjection()\n",
    "    geotransform = W_im.GetGeoTransform()\n",
    "    originX,pixelWidth,empty,finalY,empty2,pixelHeight=geotransform\n",
    "        \n",
    "    NDVI = get_ndvi(raster_array[4],raster_array[3])\n",
    "    #os.mkdir(outPath+'/'+folderNm)\n",
    "    saveRaster(NDVI,outPath+'/'+folderNm+'/NDVI'+folderNm+'.tif',cols,rows,projection,geotransform)\n",
    "    \n",
    "    NDWI = get_ndwi(raster_array[4],raster_array[2])\n",
    "    saveRaster(NDWI,outPath+'/'+folderNm+'/NDWI'+folderNm+'.tif',cols,rows,projection,geotransform)\n",
    "\n",
    "    MNDWI = get_mndwi(raster_array[5],raster_array[2])\n",
    "    saveRaster(MNDWI,outPath+'/'+folderNm+'/MNDWI'+folderNm+'.tif',cols,rows,projection,geotransform)\n",
    "    \n",
    "    NDMI = get_ndmi(raster_array[4],raster_array[5])\n",
    "    saveRaster(NDMI,outPath+'/'+folderNm+'/NDMI'+folderNm+'.tif',cols,rows,projection,geotransform)\n",
    "    \n",
    "    AWEI = get_awei(raster_array[4],raster_array[2],raster_array[6],raster_array[5])\n",
    "    saveRaster(AWEI,outPath+'/'+folderNm+'/AWEI'+folderNm+'.tif',cols,rows,projection,geotransform)\n",
    "    \n",
    "    WRI = get_wri(raster_array[4],raster_array[2],raster_array[3],raster_array[6])\n",
    "    saveRaster(WRI,outPath+'/'+folderNm+'/WRI'+folderNm+'.tif',cols,rows,projection,geotransform)\n",
    "    \n",
    "    \n"
   ]
  },
  {
   "cell_type": "code",
   "execution_count": 2,
   "id": "1cba7a43",
   "metadata": {},
   "outputs": [],
   "source": [
    "# gdal.VSIFOpenL"
   ]
  },
  {
   "cell_type": "code",
   "execution_count": null,
   "id": "8d7b4857",
   "metadata": {},
   "outputs": [],
   "source": []
  },
  {
   "cell_type": "code",
   "execution_count": null,
   "id": "c896279e",
   "metadata": {},
   "outputs": [],
   "source": []
  },
  {
   "cell_type": "code",
   "execution_count": null,
   "id": "95217bdb",
   "metadata": {},
   "outputs": [],
   "source": []
  }
 ],
 "metadata": {
  "kernelspec": {
   "display_name": "Python 3 (ipykernel)",
   "language": "python",
   "name": "python3"
  },
  "language_info": {
   "codemirror_mode": {
    "name": "ipython",
    "version": 3
   },
   "file_extension": ".py",
   "mimetype": "text/x-python",
   "name": "python",
   "nbconvert_exporter": "python",
   "pygments_lexer": "ipython3",
   "version": "3.8.13"
  }
 },
 "nbformat": 4,
 "nbformat_minor": 5
}
