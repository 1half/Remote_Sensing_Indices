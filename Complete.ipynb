{
 "cells": [
  {
   "cell_type": "code",
   "execution_count": 1,
   "id": "ac69284a",
   "metadata": {},
   "outputs": [],
   "source": [
    "import numpy as np\n",
    "from osgeo import gdal, ogr,osr\n",
    "import matplotlib.pyplot as plt\n",
    "import glob,os,pathlib\n",
    "import geopandas as gpd\n",
    "from shapely.geometry import Polygon, mapping,LineString,Point"
   ]
  },
  {
   "cell_type": "code",
   "execution_count": 2,
   "id": "1d3ba71e",
   "metadata": {},
   "outputs": [],
   "source": [
    "import clipping,masking,findindex"
   ]
  },
  {
   "cell_type": "code",
   "execution_count": 16,
   "id": "41cebe4e",
   "metadata": {},
   "outputs": [],
   "source": [
    "L2path = \"C:/Users/Ananthu/Desktop/Landsat L2/Landsat C2 L2 Band Files\"\n",
    "clipped_path = \"C:/Users/Ananthu/Desktop/Landsat L2/Clipped\"\n",
    "path_to_shape = \"C:/Users/Ananthu/Desktop/Landsat L2/shp/test8.shp\"\n",
    "\n",
    "path_st_area = \"C:/Users/Ananthu/Desktop/Landsat L2/Clipped\"\n",
    "index_out = \"C:/Users/Ananthu/Desktop/Landsat L2/index\"\n",
    "mask_out = \"C:/Users/Ananthu/Desktop/Landsat L2/masked\"\n",
    "path_to_mask = \"C:/Users/Ananthu/Desktop/Landsat L2/contour/ndwi_mask/polygons_/20210207ndwicontour.shp\""
   ]
  },
  {
   "cell_type": "code",
   "execution_count": 13,
   "id": "c04cfac6",
   "metadata": {},
   "outputs": [],
   "source": [
    "List_img = glob.glob(L2path+'/*B*.tif')\n",
    "\n",
    "Img_folders = glob.glob(path_st_area+'/L*')\n",
    "\n",
    "index_list = glob.glob(index_out+'/L*')"
   ]
  },
  {
   "cell_type": "code",
   "execution_count": 14,
   "id": "554e996c",
   "metadata": {
    "scrolled": true
   },
   "outputs": [
    {
     "data": {
      "text/plain": [
       "['C:/Users/Ananthu/Desktop/Landsat L2/index\\\\LC08_L2SP_143052_20210207_20210302_02_T1',\n",
       " 'C:/Users/Ananthu/Desktop/Landsat L2/index\\\\LC08_L2SP_143052_20210530_20210608_02_T1',\n",
       " 'C:/Users/Ananthu/Desktop/Landsat L2/index\\\\LC08_L2SP_143052_20211224_20211230_02_T1',\n",
       " 'C:/Users/Ananthu/Desktop/Landsat L2/index\\\\LC08_L2SP_143052_20220314_20220322_02_T1',\n",
       " 'C:/Users/Ananthu/Desktop/Landsat L2/index\\\\LC08_L2SP_143052_20220415_20220420_02_T1',\n",
       " 'C:/Users/Ananthu/Desktop/Landsat L2/index\\\\LC08_L2SP_144052_20210302_20210312_02_T1']"
      ]
     },
     "execution_count": 14,
     "metadata": {},
     "output_type": "execute_result"
    }
   ],
   "source": [
    "index_list"
   ]
  },
  {
   "cell_type": "markdown",
   "id": "c9ed0f7d",
   "metadata": {},
   "source": [
    "## Clip to the area of interest"
   ]
  },
  {
   "cell_type": "code",
   "execution_count": 6,
   "id": "771ae97b",
   "metadata": {
    "scrolled": true
   },
   "outputs": [
    {
     "name": "stdout",
     "output_type": "stream",
     "text": [
      "saved at : C:/Users/Ananthu/Desktop/Landsat L2/Clipped/LC08_L2SP_143052_20210207_20210302_02_T1/Clipped_LC08_L2SP_143052_20210207_20210302_02_T1_SR_B1.TIF\n",
      "saved at : C:/Users/Ananthu/Desktop/Landsat L2/Clipped/LC08_L2SP_143052_20210207_20210302_02_T1/Clipped_LC08_L2SP_143052_20210207_20210302_02_T1_SR_B2.TIF\n",
      "saved at : C:/Users/Ananthu/Desktop/Landsat L2/Clipped/LC08_L2SP_143052_20210207_20210302_02_T1/Clipped_LC08_L2SP_143052_20210207_20210302_02_T1_SR_B3.TIF\n",
      "saved at : C:/Users/Ananthu/Desktop/Landsat L2/Clipped/LC08_L2SP_143052_20210207_20210302_02_T1/Clipped_LC08_L2SP_143052_20210207_20210302_02_T1_SR_B4.TIF\n",
      "saved at : C:/Users/Ananthu/Desktop/Landsat L2/Clipped/LC08_L2SP_143052_20210207_20210302_02_T1/Clipped_LC08_L2SP_143052_20210207_20210302_02_T1_SR_B5.TIF\n",
      "saved at : C:/Users/Ananthu/Desktop/Landsat L2/Clipped/LC08_L2SP_143052_20210207_20210302_02_T1/Clipped_LC08_L2SP_143052_20210207_20210302_02_T1_SR_B6.TIF\n",
      "saved at : C:/Users/Ananthu/Desktop/Landsat L2/Clipped/LC08_L2SP_143052_20210207_20210302_02_T1/Clipped_LC08_L2SP_143052_20210207_20210302_02_T1_SR_B7.TIF\n",
      "saved at : C:/Users/Ananthu/Desktop/Landsat L2/Clipped/LC08_L2SP_143052_20210207_20210302_02_T1/Clipped_LC08_L2SP_143052_20210207_20210302_02_T1_ST_B10.TIF\n",
      "saved at : C:/Users/Ananthu/Desktop/Landsat L2/Clipped/LC08_L2SP_143052_20210530_20210608_02_T1/Clipped_LC08_L2SP_143052_20210530_20210608_02_T1_SR_B1.TIF\n",
      "saved at : C:/Users/Ananthu/Desktop/Landsat L2/Clipped/LC08_L2SP_143052_20210530_20210608_02_T1/Clipped_LC08_L2SP_143052_20210530_20210608_02_T1_SR_B2.TIF\n",
      "saved at : C:/Users/Ananthu/Desktop/Landsat L2/Clipped/LC08_L2SP_143052_20210530_20210608_02_T1/Clipped_LC08_L2SP_143052_20210530_20210608_02_T1_SR_B3.TIF\n",
      "saved at : C:/Users/Ananthu/Desktop/Landsat L2/Clipped/LC08_L2SP_143052_20210530_20210608_02_T1/Clipped_LC08_L2SP_143052_20210530_20210608_02_T1_SR_B4.TIF\n",
      "saved at : C:/Users/Ananthu/Desktop/Landsat L2/Clipped/LC08_L2SP_143052_20210530_20210608_02_T1/Clipped_LC08_L2SP_143052_20210530_20210608_02_T1_SR_B5.TIF\n",
      "saved at : C:/Users/Ananthu/Desktop/Landsat L2/Clipped/LC08_L2SP_143052_20210530_20210608_02_T1/Clipped_LC08_L2SP_143052_20210530_20210608_02_T1_SR_B6.TIF\n",
      "saved at : C:/Users/Ananthu/Desktop/Landsat L2/Clipped/LC08_L2SP_143052_20210530_20210608_02_T1/Clipped_LC08_L2SP_143052_20210530_20210608_02_T1_SR_B7.TIF\n",
      "saved at : C:/Users/Ananthu/Desktop/Landsat L2/Clipped/LC08_L2SP_143052_20210530_20210608_02_T1/Clipped_LC08_L2SP_143052_20210530_20210608_02_T1_ST_B10.TIF\n",
      "saved at : C:/Users/Ananthu/Desktop/Landsat L2/Clipped/LC08_L2SP_143052_20211224_20211230_02_T1/Clipped_LC08_L2SP_143052_20211224_20211230_02_T1_SR_B1.TIF\n",
      "saved at : C:/Users/Ananthu/Desktop/Landsat L2/Clipped/LC08_L2SP_143052_20211224_20211230_02_T1/Clipped_LC08_L2SP_143052_20211224_20211230_02_T1_SR_B2.TIF\n",
      "saved at : C:/Users/Ananthu/Desktop/Landsat L2/Clipped/LC08_L2SP_143052_20211224_20211230_02_T1/Clipped_LC08_L2SP_143052_20211224_20211230_02_T1_SR_B3.TIF\n",
      "saved at : C:/Users/Ananthu/Desktop/Landsat L2/Clipped/LC08_L2SP_143052_20211224_20211230_02_T1/Clipped_LC08_L2SP_143052_20211224_20211230_02_T1_SR_B4.TIF\n",
      "saved at : C:/Users/Ananthu/Desktop/Landsat L2/Clipped/LC08_L2SP_143052_20211224_20211230_02_T1/Clipped_LC08_L2SP_143052_20211224_20211230_02_T1_SR_B5.TIF\n",
      "saved at : C:/Users/Ananthu/Desktop/Landsat L2/Clipped/LC08_L2SP_143052_20211224_20211230_02_T1/Clipped_LC08_L2SP_143052_20211224_20211230_02_T1_SR_B6.TIF\n",
      "saved at : C:/Users/Ananthu/Desktop/Landsat L2/Clipped/LC08_L2SP_143052_20211224_20211230_02_T1/Clipped_LC08_L2SP_143052_20211224_20211230_02_T1_SR_B7.TIF\n",
      "saved at : C:/Users/Ananthu/Desktop/Landsat L2/Clipped/LC08_L2SP_143052_20211224_20211230_02_T1/Clipped_LC08_L2SP_143052_20211224_20211230_02_T1_ST_B10.TIF\n",
      "saved at : C:/Users/Ananthu/Desktop/Landsat L2/Clipped/LC08_L2SP_143052_20220314_20220322_02_T1/Clipped_LC08_L2SP_143052_20220314_20220322_02_T1_SR_B1.TIF\n",
      "saved at : C:/Users/Ananthu/Desktop/Landsat L2/Clipped/LC08_L2SP_143052_20220314_20220322_02_T1/Clipped_LC08_L2SP_143052_20220314_20220322_02_T1_SR_B2.TIF\n",
      "saved at : C:/Users/Ananthu/Desktop/Landsat L2/Clipped/LC08_L2SP_143052_20220314_20220322_02_T1/Clipped_LC08_L2SP_143052_20220314_20220322_02_T1_SR_B3.TIF\n",
      "saved at : C:/Users/Ananthu/Desktop/Landsat L2/Clipped/LC08_L2SP_143052_20220314_20220322_02_T1/Clipped_LC08_L2SP_143052_20220314_20220322_02_T1_SR_B4.TIF\n",
      "saved at : C:/Users/Ananthu/Desktop/Landsat L2/Clipped/LC08_L2SP_143052_20220314_20220322_02_T1/Clipped_LC08_L2SP_143052_20220314_20220322_02_T1_SR_B5.TIF\n",
      "saved at : C:/Users/Ananthu/Desktop/Landsat L2/Clipped/LC08_L2SP_143052_20220314_20220322_02_T1/Clipped_LC08_L2SP_143052_20220314_20220322_02_T1_SR_B6.TIF\n",
      "saved at : C:/Users/Ananthu/Desktop/Landsat L2/Clipped/LC08_L2SP_143052_20220314_20220322_02_T1/Clipped_LC08_L2SP_143052_20220314_20220322_02_T1_SR_B7.TIF\n",
      "saved at : C:/Users/Ananthu/Desktop/Landsat L2/Clipped/LC08_L2SP_143052_20220314_20220322_02_T1/Clipped_LC08_L2SP_143052_20220314_20220322_02_T1_ST_B10.TIF\n",
      "saved at : C:/Users/Ananthu/Desktop/Landsat L2/Clipped/LC08_L2SP_143052_20220415_20220420_02_T1/Clipped_LC08_L2SP_143052_20220415_20220420_02_T1_SR_B1.TIF\n",
      "saved at : C:/Users/Ananthu/Desktop/Landsat L2/Clipped/LC08_L2SP_143052_20220415_20220420_02_T1/Clipped_LC08_L2SP_143052_20220415_20220420_02_T1_SR_B2.TIF\n",
      "saved at : C:/Users/Ananthu/Desktop/Landsat L2/Clipped/LC08_L2SP_143052_20220415_20220420_02_T1/Clipped_LC08_L2SP_143052_20220415_20220420_02_T1_SR_B3.TIF\n",
      "saved at : C:/Users/Ananthu/Desktop/Landsat L2/Clipped/LC08_L2SP_143052_20220415_20220420_02_T1/Clipped_LC08_L2SP_143052_20220415_20220420_02_T1_SR_B4.TIF\n",
      "saved at : C:/Users/Ananthu/Desktop/Landsat L2/Clipped/LC08_L2SP_143052_20220415_20220420_02_T1/Clipped_LC08_L2SP_143052_20220415_20220420_02_T1_SR_B5.TIF\n",
      "saved at : C:/Users/Ananthu/Desktop/Landsat L2/Clipped/LC08_L2SP_143052_20220415_20220420_02_T1/Clipped_LC08_L2SP_143052_20220415_20220420_02_T1_SR_B6.TIF\n",
      "saved at : C:/Users/Ananthu/Desktop/Landsat L2/Clipped/LC08_L2SP_143052_20220415_20220420_02_T1/Clipped_LC08_L2SP_143052_20220415_20220420_02_T1_SR_B7.TIF\n",
      "saved at : C:/Users/Ananthu/Desktop/Landsat L2/Clipped/LC08_L2SP_143052_20220415_20220420_02_T1/Clipped_LC08_L2SP_143052_20220415_20220420_02_T1_ST_B10.TIF\n",
      "saved at : C:/Users/Ananthu/Desktop/Landsat L2/Clipped/LC08_L2SP_144052_20210302_20210312_02_T1/Clipped_LC08_L2SP_144052_20210302_20210312_02_T1_SR_B1.TIF\n",
      "saved at : C:/Users/Ananthu/Desktop/Landsat L2/Clipped/LC08_L2SP_144052_20210302_20210312_02_T1/Clipped_LC08_L2SP_144052_20210302_20210312_02_T1_SR_B2.TIF\n",
      "saved at : C:/Users/Ananthu/Desktop/Landsat L2/Clipped/LC08_L2SP_144052_20210302_20210312_02_T1/Clipped_LC08_L2SP_144052_20210302_20210312_02_T1_SR_B3.TIF\n",
      "saved at : C:/Users/Ananthu/Desktop/Landsat L2/Clipped/LC08_L2SP_144052_20210302_20210312_02_T1/Clipped_LC08_L2SP_144052_20210302_20210312_02_T1_SR_B4.TIF\n",
      "saved at : C:/Users/Ananthu/Desktop/Landsat L2/Clipped/LC08_L2SP_144052_20210302_20210312_02_T1/Clipped_LC08_L2SP_144052_20210302_20210312_02_T1_SR_B5.TIF\n",
      "saved at : C:/Users/Ananthu/Desktop/Landsat L2/Clipped/LC08_L2SP_144052_20210302_20210312_02_T1/Clipped_LC08_L2SP_144052_20210302_20210312_02_T1_SR_B6.TIF\n",
      "saved at : C:/Users/Ananthu/Desktop/Landsat L2/Clipped/LC08_L2SP_144052_20210302_20210312_02_T1/Clipped_LC08_L2SP_144052_20210302_20210312_02_T1_SR_B7.TIF\n",
      "saved at : C:/Users/Ananthu/Desktop/Landsat L2/Clipped/LC08_L2SP_144052_20210302_20210312_02_T1/Clipped_LC08_L2SP_144052_20210302_20210312_02_T1_ST_B10.TIF\n"
     ]
    }
   ],
   "source": [
    "for file in List_img:\n",
    "    folderNm = pathlib.PurePath(file).name[:40]\n",
    "    try:\n",
    "        os.stat(clipped_path+'/'+folderNm)\n",
    "    except:\n",
    "        os.mkdir(clipped_path+'/'+folderNm)\n",
    "    else:\n",
    "        pass\n",
    "\n",
    "    #clipping.Clip_to_bound(file,clipped_path,path_to_shape)"
   ]
  },
  {
   "cell_type": "markdown",
   "id": "2ebce207",
   "metadata": {},
   "source": [
    "## Get indices"
   ]
  },
  {
   "cell_type": "code",
   "execution_count": 6,
   "id": "ab3c4707",
   "metadata": {},
   "outputs": [
    {
     "name": "stderr",
     "output_type": "stream",
     "text": [
      "C:\\Users\\Ananthu\\#Sensegrass\\Final_codes\\findindex.py:49: RuntimeWarning: invalid value encountered in true_divide\n",
      "  wri = np.divide(B_3 + B_4, B_5+ B_7)\n"
     ]
    }
   ],
   "source": [
    "for fl in Img_folders:\n",
    "    \n",
    "    folderNm = pathlib.PurePath(fl).name[:40]\n",
    "    try:\n",
    "        os.stat(index_out+'/'+folderNm)\n",
    "    except:\n",
    "        os.mkdir(index_out+'/'+folderNm)\n",
    "    else:\n",
    "        pass\n",
    "    \n",
    "    \n",
    "    findindex.IndexCalculation(fl,index_out)"
   ]
  },
  {
   "cell_type": "markdown",
   "id": "3d1a58e0",
   "metadata": {},
   "source": [
    "## Mask for water only"
   ]
  },
  {
   "cell_type": "code",
   "execution_count": 17,
   "id": "f2542f66",
   "metadata": {
    "scrolled": true
   },
   "outputs": [
    {
     "name": "stdout",
     "output_type": "stream",
     "text": [
      "C:/Users/Ananthu/Desktop/Landsat L2/masked/20210207_20210302_02_T1/Msk_AWEILC08_L2SP_143052_20210207_20210302_02_T1.tif\n",
      "C:/Users/Ananthu/Desktop/Landsat L2/masked/20210207_20210302_02_T1/Msk_MNDWILC08_L2SP_143052_20210207_20210302_02_T1.tif\n",
      "C:/Users/Ananthu/Desktop/Landsat L2/masked/20210207_20210302_02_T1/Msk_NDMILC08_L2SP_143052_20210207_20210302_02_T1.tif\n",
      "C:/Users/Ananthu/Desktop/Landsat L2/masked/20210207_20210302_02_T1/Msk_NDVILC08_L2SP_143052_20210207_20210302_02_T1.tif\n",
      "C:/Users/Ananthu/Desktop/Landsat L2/masked/20210207_20210302_02_T1/Msk_NDWILC08_L2SP_143052_20210207_20210302_02_T1.tif\n",
      "C:/Users/Ananthu/Desktop/Landsat L2/masked/20210207_20210302_02_T1/Msk_WRILC08_L2SP_143052_20210207_20210302_02_T1.tif\n",
      "C:/Users/Ananthu/Desktop/Landsat L2/masked/20210530_20210608_02_T1/Msk_AWEILC08_L2SP_143052_20210530_20210608_02_T1.tif\n",
      "C:/Users/Ananthu/Desktop/Landsat L2/masked/20210530_20210608_02_T1/Msk_MNDWILC08_L2SP_143052_20210530_20210608_02_T1.tif\n",
      "C:/Users/Ananthu/Desktop/Landsat L2/masked/20210530_20210608_02_T1/Msk_NDMILC08_L2SP_143052_20210530_20210608_02_T1.tif\n",
      "C:/Users/Ananthu/Desktop/Landsat L2/masked/20210530_20210608_02_T1/Msk_NDVILC08_L2SP_143052_20210530_20210608_02_T1.tif\n",
      "C:/Users/Ananthu/Desktop/Landsat L2/masked/20210530_20210608_02_T1/Msk_NDWILC08_L2SP_143052_20210530_20210608_02_T1.tif\n",
      "C:/Users/Ananthu/Desktop/Landsat L2/masked/20210530_20210608_02_T1/Msk_WRILC08_L2SP_143052_20210530_20210608_02_T1.tif\n",
      "C:/Users/Ananthu/Desktop/Landsat L2/masked/20211224_20211230_02_T1/Msk_AWEILC08_L2SP_143052_20211224_20211230_02_T1.tif\n",
      "C:/Users/Ananthu/Desktop/Landsat L2/masked/20211224_20211230_02_T1/Msk_MNDWILC08_L2SP_143052_20211224_20211230_02_T1.tif\n",
      "C:/Users/Ananthu/Desktop/Landsat L2/masked/20211224_20211230_02_T1/Msk_NDMILC08_L2SP_143052_20211224_20211230_02_T1.tif\n",
      "C:/Users/Ananthu/Desktop/Landsat L2/masked/20211224_20211230_02_T1/Msk_NDVILC08_L2SP_143052_20211224_20211230_02_T1.tif\n",
      "C:/Users/Ananthu/Desktop/Landsat L2/masked/20211224_20211230_02_T1/Msk_NDWILC08_L2SP_143052_20211224_20211230_02_T1.tif\n",
      "C:/Users/Ananthu/Desktop/Landsat L2/masked/20211224_20211230_02_T1/Msk_WRILC08_L2SP_143052_20211224_20211230_02_T1.tif\n",
      "C:/Users/Ananthu/Desktop/Landsat L2/masked/20220314_20220322_02_T1/Msk_AWEILC08_L2SP_143052_20220314_20220322_02_T1.tif\n",
      "C:/Users/Ananthu/Desktop/Landsat L2/masked/20220314_20220322_02_T1/Msk_MNDWILC08_L2SP_143052_20220314_20220322_02_T1.tif\n",
      "C:/Users/Ananthu/Desktop/Landsat L2/masked/20220314_20220322_02_T1/Msk_NDMILC08_L2SP_143052_20220314_20220322_02_T1.tif\n",
      "C:/Users/Ananthu/Desktop/Landsat L2/masked/20220314_20220322_02_T1/Msk_NDVILC08_L2SP_143052_20220314_20220322_02_T1.tif\n",
      "C:/Users/Ananthu/Desktop/Landsat L2/masked/20220314_20220322_02_T1/Msk_NDWILC08_L2SP_143052_20220314_20220322_02_T1.tif\n",
      "C:/Users/Ananthu/Desktop/Landsat L2/masked/20220314_20220322_02_T1/Msk_WRILC08_L2SP_143052_20220314_20220322_02_T1.tif\n",
      "C:/Users/Ananthu/Desktop/Landsat L2/masked/20220415_20220420_02_T1/Msk_AWEILC08_L2SP_143052_20220415_20220420_02_T1.tif\n",
      "C:/Users/Ananthu/Desktop/Landsat L2/masked/20220415_20220420_02_T1/Msk_MNDWILC08_L2SP_143052_20220415_20220420_02_T1.tif\n",
      "C:/Users/Ananthu/Desktop/Landsat L2/masked/20220415_20220420_02_T1/Msk_NDMILC08_L2SP_143052_20220415_20220420_02_T1.tif\n",
      "C:/Users/Ananthu/Desktop/Landsat L2/masked/20220415_20220420_02_T1/Msk_NDVILC08_L2SP_143052_20220415_20220420_02_T1.tif\n",
      "C:/Users/Ananthu/Desktop/Landsat L2/masked/20220415_20220420_02_T1/Msk_NDWILC08_L2SP_143052_20220415_20220420_02_T1.tif\n",
      "C:/Users/Ananthu/Desktop/Landsat L2/masked/20220415_20220420_02_T1/Msk_WRILC08_L2SP_143052_20220415_20220420_02_T1.tif\n",
      "C:/Users/Ananthu/Desktop/Landsat L2/masked/20210302_20210312_02_T1/Msk_AWEILC08_L2SP_144052_20210302_20210312_02_T1.tif\n",
      "C:/Users/Ananthu/Desktop/Landsat L2/masked/20210302_20210312_02_T1/Msk_MNDWILC08_L2SP_144052_20210302_20210312_02_T1.tif\n",
      "C:/Users/Ananthu/Desktop/Landsat L2/masked/20210302_20210312_02_T1/Msk_NDMILC08_L2SP_144052_20210302_20210312_02_T1.tif\n",
      "C:/Users/Ananthu/Desktop/Landsat L2/masked/20210302_20210312_02_T1/Msk_NDVILC08_L2SP_144052_20210302_20210312_02_T1.tif\n",
      "C:/Users/Ananthu/Desktop/Landsat L2/masked/20210302_20210312_02_T1/Msk_NDWILC08_L2SP_144052_20210302_20210312_02_T1.tif\n",
      "C:/Users/Ananthu/Desktop/Landsat L2/masked/20210302_20210312_02_T1/Msk_WRILC08_L2SP_144052_20210302_20210312_02_T1.tif\n"
     ]
    }
   ],
   "source": [
    "for file in index_list:\n",
    "    folderNm = pathlib.PurePath(file).name[17:40]\n",
    "    try:\n",
    "        os.stat(mask_out+'/'+folderNm)\n",
    "    except:\n",
    "        os.mkdir(mask_out+'/'+folderNm)\n",
    "    else:\n",
    "        pass\n",
    "    List_file = glob.glob(file+'/*.tif')\n",
    "    List_file\n",
    "    \n",
    "    for f in List_file:\n",
    "        #print(f)\n",
    "        fileNm = pathlib.PurePath(f).name\n",
    "        clipping.Clip_to_bound1(f,mask_out+'/'+folderNm+'/Msk_'+fileNm,path_to_mask)\n",
    "        print(mask_out+'/'+folderNm+'/Msk_'+fileNm)"
   ]
  },
  {
   "cell_type": "markdown",
   "id": "1dc2dfc8",
   "metadata": {},
   "source": [
    "## Plotting"
   ]
  },
  {
   "cell_type": "code",
   "execution_count": 30,
   "id": "9f951347",
   "metadata": {},
   "outputs": [],
   "source": [
    "def sub_plots(raster_array,vmn,vmx,colr,Title,Ind):\n",
    "    #vmn = -1\n",
    "    #colr = 'seismic'\n",
    "    #vmx = 1\n",
    "    fig = plt.figure(figsize=(15,10))\n",
    "    fig.suptitle(Title, fontsize=16)\n",
    "    ax = plt.subplot(231)\n",
    "    ax.set_title(\" 2021 Feb  \")\n",
    "    plt.imshow(raster_array[Ind],vmin=vmn,vmax = vmx, cmap=colr)\n",
    "    plt.colorbar(fraction=0.03)\n",
    "    \n",
    "    ax = plt.subplot(232)\n",
    "    ax.set_title(\"2021 march\")\n",
    "    plt.imshow(raster_array[Ind+6],vmin=vmn,vmax = vmx,cmap=colr)\n",
    "    plt.colorbar(fraction=0.03)\n",
    "    \n",
    "    ax = plt.subplot(233)\n",
    "    ax.set_title(\"2021 may \")\n",
    "    plt.imshow(raster_array[Ind+12],vmin=vmn,vmax = vmx, cmap=colr)\n",
    "    plt.colorbar(fraction=0.03)\n",
    "    \n",
    "    ax = plt.subplot(234)\n",
    "    ax.set_title(\"2021 December\")\n",
    "    plt.imshow(raster_array[Ind+18],vmin=vmn,vmax = vmx, cmap=colr)\n",
    "    plt.colorbar(fraction=0.03)\n",
    "    \n",
    "    ax = plt.subplot(235)\n",
    "    ax.set_title(\"2022 march\")\n",
    "    plt.imshow(raster_array[Ind+24],vmin=vmn,vmax = vmx, cmap=colr)\n",
    "    plt.colorbar(fraction=0.03)\n",
    "\n",
    "    ax = plt.subplot(236)\n",
    "    ax.set_title(\"2022 April\")\n",
    "    plt.imshow(raster_array[Ind+30], vmin=vmn,vmax = vmx, cmap=colr)\n",
    "    plt.colorbar(fraction=0.03)\n",
    "\n",
    "\n",
    "\n",
    "    plt.show()"
   ]
  },
  {
   "cell_type": "code",
   "execution_count": 23,
   "id": "f72ea352",
   "metadata": {
    "scrolled": true
   },
   "outputs": [],
   "source": [
    "List_file = glob.glob(mask_out+'/*'+'/*.tif')\n",
    "List_file.sort()"
   ]
  },
  {
   "cell_type": "code",
   "execution_count": 28,
   "id": "2beb14b4",
   "metadata": {},
   "outputs": [],
   "source": [
    "#List_file #order= awei=0,mndwi=1, ndmi=2, ndvi=3, ndwi=4, wri=5"
   ]
  },
  {
   "cell_type": "code",
   "execution_count": 20,
   "id": "cbf76431",
   "metadata": {},
   "outputs": [],
   "source": [
    "def ToRasterArray(band):\n",
    "    Rast_Band=[]\n",
    "    for b in band:\n",
    "        W_im = gdal.Open(b)\n",
    "        Rast_Band.append(W_im.GetRasterBand(1).ReadAsArray().astype(np.float32))\n",
    "    return Rast_Band"
   ]
  },
  {
   "cell_type": "code",
   "execution_count": 22,
   "id": "a4103d61",
   "metadata": {},
   "outputs": [],
   "source": [
    "Images = ToRasterArray(List_file)"
   ]
  },
  {
   "cell_type": "code",
   "execution_count": 25,
   "id": "be992fb9",
   "metadata": {},
   "outputs": [
    {
     "data": {
      "text/plain": [
       "36"
      ]
     },
     "execution_count": 25,
     "metadata": {},
     "output_type": "execute_result"
    }
   ],
   "source": [
    "len(Images)"
   ]
  },
  {
   "cell_type": "code",
   "execution_count": null,
   "id": "a843d5ea",
   "metadata": {},
   "outputs": [],
   "source": [
    "#for Ind give order no:. order= awei=0,mndwi=1, ndmi=2, ndvi=3, ndwi=4, wri=5"
   ]
  },
  {
   "cell_type": "code",
   "execution_count": 31,
   "id": "0b2e34dd",
   "metadata": {},
   "outputs": [
    {
     "data": {
      "image/png": "[encoded data removed]",
      "text/plain": [
       "<Figure size 1080x720 with 12 Axes>"
      ]
     },
     "metadata": {
      "needs_background": "light"
     },
     "output_type": "display_data"
    }
   ],
   "source": [
    "sub_plots(Images,vmn=-1,vmx=1,colr='YlGn',Title=\"NDVI\",Ind=3)"
   ]
  },
  {
   "cell_type": "code",
   "execution_count": null,
   "id": "a2ff99da",
   "metadata": {},
   "outputs": [],
   "source": []
  },
  {
   "cell_type": "code",
   "execution_count": null,
   "id": "ce324e95",
   "metadata": {},
   "outputs": [],
   "source": []
  }
 ],
 "metadata": {
  "kernelspec": {
   "display_name": "Python 3 (ipykernel)",
   "language": "python",
   "name": "python3"
  },
  "language_info": {
   "codemirror_mode": {
    "name": "ipython",
    "version": 3
   },
   "file_extension": ".py",
   "mimetype": "text/x-python",
   "name": "python",
   "nbconvert_exporter": "python",
   "pygments_lexer": "ipython3",
   "version": "3.8.13"
  }
 },
 "nbformat": 4,
 "nbformat_minor": 5
}
